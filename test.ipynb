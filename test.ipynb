{
 "cells": [
  {
   "cell_type": "code",
   "execution_count": 4,
   "metadata": {},
   "outputs": [],
   "source": [
    "import numpy as np\n",
    "import numpy.random as rd"
   ]
  },
  {
   "cell_type": "code",
   "execution_count": 5,
   "metadata": {},
   "outputs": [],
   "source": [
    "# Input\n",
    "n_MC = 10000\n",
    "n = 100\n",
    "n_t = 100\n",
    "T_range = np.array([1, 3, 5])\n",
    "mu_range = 0.01 * np.arange(1, 21)\n",
    "beta_scale_factor = 10\n",
    "\n",
    "# Model parameters\n",
    "kappa = rd.uniform(0.5, 1.5, n)\n",
    "X0 = c = rd.uniform(0.001, 0.051, n)\n",
    "sigma_bar = rd.uniform(0, 0.2, n)\n",
    "sigma = np.minimum(np.sqrt(2 * kappa * c), sigma_bar)\n",
    "gamma = np.sqrt(np.square(kappa) + 2 * np.square(sigma))\n",
    "beta = rd.uniform(0, 0.01, (n, n)) / beta_scale_factor\n",
    "np.fill_diagonal(beta, 0)\n",
    "\n",
    "# Choose input\n",
    "T = T_range[0]\n",
    "mu = mu_range[-1]\n",
    "theta = np.ceil(mu*n) / T"
   ]
  },
  {
   "cell_type": "code",
   "execution_count": 6,
   "metadata": {},
   "outputs": [],
   "source": [
    "def p_nocorr(t, kappa, X0, c, gamma):\n",
    "    exp_gamma_t = np.exp(np.outer(t, gamma))\n",
    "    p_wob = (4 * X0 * np.square(gamma) * exp_gamma_t) / \\\n",
    "                np.square(gamma - kappa + (gamma + kappa) * exp_gamma_t) + \\\n",
    "            (2 * kappa * c * (exp_gamma_t - 1)) / \\\n",
    "                (gamma - kappa + (gamma + kappa) * exp_gamma_t)\n",
    "    return p_wob"
   ]
  },
  {
   "cell_type": "code",
   "execution_count": 40,
   "metadata": {},
   "outputs": [],
   "source": [
    "n_AR = 15800\n",
    "N_arr_AR = np.zeros(n_AR)\n",
    "\n",
    "default_counts = np.zeros(n)\n",
    "\n",
    "for i_AR in range(n_AR):\n",
    "    #Step 1: initialize count and time\n",
    "    t_sample = np.zeros(1)\n",
    "    M = np.zeros(n)\n",
    "\n",
    "    #Step 2: Calculate rate of transition and calculate a bounding rate\n",
    "    p_wb = p_nocorr(t_sample, kappa, X0, c, gamma)\n",
    "    p_bound = np.sum(p_wb)\n",
    "\n",
    "    while t_sample[0] < T:\n",
    "        #Step 3: Draw a random variable and accept/reject\n",
    "        eps = rd.exponential(1 / p_bound, size=1)\n",
    "        # For the CIR model with parameters given in the paper, p_wob is decreasing w.r.t time\n",
    "        p_candidate_wob = np.multiply(p_nocorr(t_sample + eps, kappa, X0, c, gamma), 1 - M)\n",
    "        p_candidate_wb = p_candidate_wob + np.matmul(beta, M)\n",
    "        if p_bound * rd.uniform() <= np.sum(p_candidate_wb):\n",
    "            #Step 4 (If there is a default): modify M\n",
    "            conditional_prob = np.cumsum(p_candidate_wb) / np.sum(p_candidate_wb)\n",
    "            ind = np.searchsorted(np.cumsum(p_candidate_wb) / np.sum(p_candidate_wb), rd.random())\n",
    "            M[ind] = 1\n",
    "\n",
    "        t_sample[0] = t_sample[0] + eps[0]\n",
    "        \n",
    "    default_counts[int(np.sum(M))] += 1"
   ]
  },
  {
   "cell_type": "code",
   "execution_count": 41,
   "metadata": {},
   "outputs": [
    {
     "name": "stdout",
     "output_type": "stream",
     "text": [
      "[  1.89873418e-04   8.57594937e-02   2.07151899e-01   2.57848101e-01\n",
      "   2.10189873e-01   1.36075949e-01   6.34177215e-02   2.54430380e-02\n",
      "   9.68354430e-03   2.84810127e-03   9.49367089e-04   4.43037975e-04\n",
      "   0.00000000e+00   0.00000000e+00   0.00000000e+00   0.00000000e+00\n",
      "   0.00000000e+00   0.00000000e+00   0.00000000e+00   0.00000000e+00\n",
      "   0.00000000e+00   0.00000000e+00   0.00000000e+00   0.00000000e+00\n",
      "   0.00000000e+00   0.00000000e+00   0.00000000e+00   0.00000000e+00\n",
      "   0.00000000e+00   0.00000000e+00   0.00000000e+00   0.00000000e+00\n",
      "   0.00000000e+00   0.00000000e+00   0.00000000e+00   0.00000000e+00\n",
      "   0.00000000e+00   0.00000000e+00   0.00000000e+00   0.00000000e+00\n",
      "   0.00000000e+00   0.00000000e+00   0.00000000e+00   0.00000000e+00\n",
      "   0.00000000e+00   0.00000000e+00   0.00000000e+00   0.00000000e+00\n",
      "   0.00000000e+00   0.00000000e+00   0.00000000e+00   0.00000000e+00\n",
      "   0.00000000e+00   0.00000000e+00   0.00000000e+00   0.00000000e+00\n",
      "   0.00000000e+00   0.00000000e+00   0.00000000e+00   0.00000000e+00\n",
      "   0.00000000e+00   0.00000000e+00   0.00000000e+00   0.00000000e+00\n",
      "   0.00000000e+00   0.00000000e+00   0.00000000e+00   0.00000000e+00\n",
      "   0.00000000e+00   0.00000000e+00   0.00000000e+00   0.00000000e+00\n",
      "   0.00000000e+00   0.00000000e+00   0.00000000e+00   0.00000000e+00\n",
      "   0.00000000e+00   0.00000000e+00   0.00000000e+00   0.00000000e+00\n",
      "   0.00000000e+00   0.00000000e+00   0.00000000e+00   0.00000000e+00\n",
      "   0.00000000e+00   0.00000000e+00   0.00000000e+00   0.00000000e+00\n",
      "   0.00000000e+00   0.00000000e+00   0.00000000e+00   0.00000000e+00\n",
      "   0.00000000e+00   0.00000000e+00   0.00000000e+00   0.00000000e+00\n",
      "   0.00000000e+00   0.00000000e+00   0.00000000e+00   0.00000000e+00]\n"
     ]
    }
   ],
   "source": [
    "print(default_counts / np.sum(default_counts))"
   ]
  },
  {
   "cell_type": "code",
   "execution_count": 43,
   "metadata": {},
   "outputs": [
    {
     "data": {
      "text/plain": [
       "153.0"
      ]
     },
     "execution_count": 43,
     "metadata": {},
     "output_type": "execute_result"
    }
   ],
   "source": [
    "default_counts[8]"
   ]
  },
  {
   "cell_type": "code",
   "execution_count": null,
   "metadata": {},
   "outputs": [],
   "source": [
    ""
   ]
  }
 ],
 "metadata": {
  "kernelspec": {
   "display_name": "Python 3",
   "language": "python",
   "name": "python3"
  },
  "language_info": {
   "codemirror_mode": {
    "name": "ipython",
    "version": 3.0
   },
   "file_extension": ".py",
   "mimetype": "text/x-python",
   "name": "python",
   "nbconvert_exporter": "python",
   "pygments_lexer": "ipython3",
   "version": "3.5.3"
  }
 },
 "nbformat": 4,
 "nbformat_minor": 0
}